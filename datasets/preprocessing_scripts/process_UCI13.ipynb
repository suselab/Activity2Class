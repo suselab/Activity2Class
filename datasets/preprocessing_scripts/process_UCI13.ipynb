{
 "cells": [
  {
   "cell_type": "code",
   "execution_count": 3,
   "metadata": {},
   "outputs": [],
   "source": [
    "import numpy as np\n",
    "import pandas as pd\n",
    "import os"
   ]
  },
  {
   "cell_type": "code",
   "execution_count": 4,
   "metadata": {},
   "outputs": [],
   "source": [
    "dataset_folder = \"../datasets/UCI13/\"\n",
    "output_folder = \"../project/datasets/UCI13\"\n",
    "\n",
    "for t in [\"test\", \"train\"]:\n",
    "    for a in \"xyz\":\n",
    "        input_fname = os.path.join(dataset_folder,f\"{t}/Inertial Signals/total_acc_{a}_{t}.txt\")\n",
    "        output_fname = os.path.join(output_folder,f\"{t}/Acc_{a}.txt\")\n",
    "        acc = pd.read_csv(input_fname, sep=\"\\s+\", header=None)\n",
    "        acc.to_csv(output_fname, index=False, header=False, sep=\" \")\n",
    "    input_fname = os.path.join(dataset_folder,f\"{t}/y_{t}.txt\")\n",
    "    output_fname = os.path.join(output_folder,f\"{t}/Label.txt\")\n",
    "    label = pd.read_csv(input_fname, header=None)\n",
    "    label.to_csv(output_fname, index=False, header=False, sep=\" \")\n",
    "\n",
    "input_fname = os.path.join(dataset_folder,\"activity_labels.txt\")\n",
    "output_fname = os.path.join(output_folder,\"Label_names.txt\")\n",
    "label_names = pd.read_csv(input_fname,sep=\"\\s+\",header=None, names=[\"id\", \"name\"], usecols=[\"name\"])\n",
    "label_names.to_csv(output_fname, index=False, header=False, sep=\" \")"
   ]
  }
 ],
 "metadata": {
  "interpreter": {
   "hash": "916dbcbb3f70747c44a77c7bcd40155683ae19c65e1c03b4aa3499c5328201f1"
  },
  "kernelspec": {
   "display_name": "Python 3.8.10 64-bit",
   "name": "python3"
  },
  "language_info": {
   "codemirror_mode": {
    "name": "ipython",
    "version": 3
   },
   "file_extension": ".py",
   "mimetype": "text/x-python",
   "name": "python",
   "nbconvert_exporter": "python",
   "pygments_lexer": "ipython3",
   "version": "3.8.10"
  },
  "orig_nbformat": 4
 },
 "nbformat": 4,
 "nbformat_minor": 2
}
