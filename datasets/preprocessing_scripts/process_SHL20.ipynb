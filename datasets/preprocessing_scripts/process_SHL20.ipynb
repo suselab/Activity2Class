{
 "cells": [
  {
   "cell_type": "code",
   "execution_count": null,
   "metadata": {},
   "outputs": [],
   "source": [
    "import pandas as pd\n",
    "import numpy as np\n",
    "from tqdm import tqdm\n",
    "import random\n",
    "import os\n",
    "import sys"
   ]
  },
  {
   "cell_type": "code",
   "execution_count": null,
   "metadata": {},
   "outputs": [],
   "source": [
    "dataset_folder = \"../datasets/SHL20\"\n",
    "target_folder = \"../datasets/SHL20combined\""
   ]
  },
  {
   "cell_type": "code",
   "execution_count": null,
   "metadata": {},
   "outputs": [],
   "source": [
    "def folders2single(directory_in,mode, directory_target):\n",
    "    acc_x = np.zeros((0,500))\n",
    "    acc_y = np.zeros((0,500))\n",
    "    acc_z = np.zeros((0,500))\n",
    "    labels = np.zeros((0,1))\n",
    "    print(\"Loading data (this might take a while)\")\n",
    "\n",
    "    for subdir, dirs, files in tqdm(os.walk(os.path.join(directory_in, mode)), total=5, file=sys.stdout):\n",
    "        if files:\n",
    "            acc_x = np.concatenate([acc_x, pd.read_csv(os.path.join(subdir, \"Acc_x.txt\"), sep=\" \", header=None).to_numpy()], axis=0)\n",
    "            acc_y = np.concatenate([acc_y, pd.read_csv(os.path.join(subdir, \"Acc_y.txt\"), sep=\" \", header=None).to_numpy()], axis=0)\n",
    "            acc_z = np.concatenate([acc_z, pd.read_csv(os.path.join(subdir, \"Acc_z.txt\"), sep=\" \", header=None).to_numpy()], axis=0)\n",
    "            labels_part = pd.read_csv(os.path.join(subdir, \"Label.txt\"), sep=\" \", names=[\"Label\"], usecols=[\"Label\"])\n",
    "\n",
    "            labels = np.concatenate([labels, labels_part.to_numpy()], axis=0)\n",
    "    print(f\"Dataset takes approximately {acc_x.nbytes*5*1e-9:.1f} GB of storage\")\n",
    "    np.savetxt(os.path.join(directory_target, mode, \"Acc_x.txt\"), acc_x)\n",
    "    np.savetxt(os.path.join(directory_target, mode, \"Acc_y.txt\"), acc_y)\n",
    "    np.savetxt(os.path.join(directory_target, mode, \"Acc_z.txt\"), acc_z)\n",
    "    np.savetxt(os.path.join(directory_target, mode, \"Labels.txt\"), labels)\n",
    "\n",
    "folders2single(dataset_folder, \"test\", target_folder)\n",
    "folders2single(dataset_folder, \"train\", target_folder)\n",
    "folders2single(dataset_folder, \"validation\", target_folder)\n"
   ]
  }
 ],
 "metadata": {
  "interpreter": {
   "hash": "916dbcbb3f70747c44a77c7bcd40155683ae19c65e1c03b4aa3499c5328201f1"
  },
  "kernelspec": {
   "display_name": "Python 3.8.10 64-bit",
   "name": "python3"
  },
  "language_info": {
   "codemirror_mode": {
    "name": "ipython",
    "version": 3
   },
   "file_extension": ".py",
   "mimetype": "text/x-python",
   "name": "python",
   "nbconvert_exporter": "python",
   "pygments_lexer": "ipython3",
   "version": "3.8.10"
  },
  "orig_nbformat": 4
 },
 "nbformat": 4,
 "nbformat_minor": 2
}
