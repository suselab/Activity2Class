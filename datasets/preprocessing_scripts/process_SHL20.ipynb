{
 "cells": [
  {
   "cell_type": "code",
   "execution_count": null,
   "source": [
    "import pandas as pd\n",
    "import numpy as np\n",
    "from tqdm import tqdm\n",
    "import os\n",
    "import sys"
   ],
   "outputs": [],
   "metadata": {}
  },
  {
   "cell_type": "code",
   "execution_count": null,
   "source": [
    "dataset_folder = \"../datasets/SHL20\"\n",
    "target_folder = \"../datasets/SHL20combined\""
   ],
   "outputs": [],
   "metadata": {}
  },
  {
   "cell_type": "code",
   "execution_count": null,
   "source": [
    "def folders2single(directory_in,mode, directory_target):\n",
    "    acc_x = np.zeros((0,500))\n",
    "    acc_y = np.zeros((0,500))\n",
    "    acc_z = np.zeros((0,500))\n",
    "    labels = np.zeros((0,1))\n",
    "    print(\"Loading data (this might take a while)\")\n",
    "\n",
    "    for subdir, dirs, files in tqdm(os.walk(os.path.join(directory_in, mode)), total=5, file=sys.stdout):\n",
    "        if files:\n",
    "            acc_x = np.concatenate([acc_x, pd.read_csv(os.path.join(subdir, \"Acc_x.txt\"), sep=\" \", header=None).to_numpy()], axis=0)\n",
    "            acc_y = np.concatenate([acc_y, pd.read_csv(os.path.join(subdir, \"Acc_y.txt\"), sep=\" \", header=None).to_numpy()], axis=0)\n",
    "            acc_z = np.concatenate([acc_z, pd.read_csv(os.path.join(subdir, \"Acc_z.txt\"), sep=\" \", header=None).to_numpy()], axis=0)\n",
    "            labels_part = pd.read_csv(os.path.join(subdir, \"Label.txt\"), sep=\" \", names=[\"Label\"], usecols=[\"Label\"])\n",
    "\n",
    "            labels = np.concatenate([labels, labels_part.to_numpy()], axis=0)\n",
    "    print(f\"Dataset takes approximately {acc_x.nbytes*5*1e-9:.1f} GB of storage\")\n",
    "    np.savetxt(os.path.join(directory_target, mode, \"Acc_x.txt\"), acc_x)\n",
    "    np.savetxt(os.path.join(directory_target, mode, \"Acc_y.txt\"), acc_y)\n",
    "    np.savetxt(os.path.join(directory_target, mode, \"Acc_z.txt\"), acc_z)\n",
    "    np.savetxt(os.path.join(directory_target, mode, \"Labels.txt\"), labels)\n",
    "\n",
    "folders2single(dataset_folder, \"test\", target_folder)\n",
    "folders2single(dataset_folder, \"train\", target_folder)\n",
    "folders2single(dataset_folder, \"validation\", target_folder)\n"
   ],
   "outputs": [],
   "metadata": {}
  }
 ],
 "metadata": {
  "orig_nbformat": 4,
  "language_info": {
   "name": "python",
   "version": "3.8.10",
   "mimetype": "text/x-python",
   "codemirror_mode": {
    "name": "ipython",
    "version": 3
   },
   "pygments_lexer": "ipython3",
   "nbconvert_exporter": "python",
   "file_extension": ".py"
  },
  "kernelspec": {
   "name": "python3",
   "display_name": "Python 3.8.10 64-bit"
  },
  "interpreter": {
   "hash": "916dbcbb3f70747c44a77c7bcd40155683ae19c65e1c03b4aa3499c5328201f1"
  }
 },
 "nbformat": 4,
 "nbformat_minor": 2
}